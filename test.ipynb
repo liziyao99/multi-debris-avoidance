{
 "cells": [
  {
   "cell_type": "code",
   "execution_count": 1,
   "metadata": {},
   "outputs": [],
   "source": [
    "from tree.tree import *\n",
    "nodes = []\n",
    "state_dim = 3\n",
    "obs_dim = 3\n",
    "action_dim = 3\n",
    "n = 100\n",
    "for i in range(n):\n",
    "    nodes.append(stateNode(str(i), state_dim, obs_dim, action_dim))"
   ]
  },
  {
   "cell_type": "code",
   "execution_count": 1,
   "metadata": {},
   "outputs": [],
   "source": [
    "from tree.tree import GST\n",
    "from agent.agent import debugAgent\n",
    "from env.propagator import debugPropagator\n",
    "gst = GST(10, 10, 6, 6, 3)\n",
    "A = debugAgent()\n",
    "P = debugPropagator()"
   ]
  },
  {
   "cell_type": "code",
   "execution_count": 13,
   "metadata": {},
   "outputs": [],
   "source": [
    "from tree.tree import stateDict\n",
    "\n",
    "sd = stateDict(6, 6, 3)\n",
    "gst.reset(sd)\n"
   ]
  },
  {
   "cell_type": "code",
   "execution_count": 11,
   "metadata": {},
   "outputs": [
    {
     "data": {
      "text/plain": [
       "False"
      ]
     },
     "execution_count": 11,
     "metadata": {},
     "output_type": "execute_result"
    }
   ],
   "source": [
    "gst.step(A, P)"
   ]
  },
  {
   "cell_type": "code",
   "execution_count": 14,
   "metadata": {},
   "outputs": [
    {
     "name": "stdout",
     "output_type": "stream",
     "text": [
      "root\n",
      "├── gen0_node0\n",
      "├── gen0_node1\n",
      "├── gen0_node2\n",
      "├── gen0_node3\n",
      "├── gen0_node4\n",
      "├── gen0_node5\n",
      "├── gen0_node6\n",
      "├── gen0_node7\n",
      "├── gen0_node8\n",
      "└── gen0_node9\n"
     ]
    }
   ],
   "source": [
    "import anytree\n",
    "for pre, _, node in anytree.RenderTree(gst.root):\n",
    "    print(\"%s%s\" % (pre, node.name))\n"
   ]
  },
  {
   "cell_type": "code",
   "execution_count": null,
   "metadata": {},
   "outputs": [],
   "source": []
  }
 ],
 "metadata": {
  "kernelspec": {
   "display_name": "base",
   "language": "python",
   "name": "python3"
  },
  "language_info": {
   "codemirror_mode": {
    "name": "ipython",
    "version": 3
   },
   "file_extension": ".py",
   "mimetype": "text/x-python",
   "name": "python",
   "nbconvert_exporter": "python",
   "pygments_lexer": "ipython3",
   "version": "3.11.5"
  }
 },
 "nbformat": 4,
 "nbformat_minor": 2
}
