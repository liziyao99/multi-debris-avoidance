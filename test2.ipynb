{
 "cells": [
  {
   "cell_type": "code",
   "execution_count": 27,
   "metadata": {},
   "outputs": [],
   "source": [
    "import numpy as np\n",
    "import torch\n",
    "import matplotlib.pyplot as plt\n",
    "from agent.setTransfomer import setTransformer\n",
    "from torch.utils.tensorboard import SummaryWriter\n",
    "\n",
    "st = setTransformer(n_feature=6, num_heads=3, encoder_fc_hiddens=[128], encoder_depth=1, \n",
    "                    initial_fc_hiddens=[512]*2,\n",
    "                    initial_fc_output=12,\n",
    "                    n_output=48, pma_fc_hiddens=[128], pma_mab_fc_hiddens=[128], \n",
    "                    mhAtt_dropout=0.2, fc_dropout=0.5).to(\"cuda\")\n",
    "linear = torch.nn.Linear(48, 3).to(st.device)\n",
    "model = torch.nn.Sequential(st, linear)\n",
    "opt = torch.optim.Adam(model.parameters(), lr=0.001)\n",
    "\n",
    "from env.propagators.variableDebris import vdPropagator, vdPropagatorPlane\n",
    "# vdp = vdPropagator(10, 0.06, dt=0.3, device=\"cuda\", safe_dist=100, p_new_debris=1e-3, gamma=None)\n",
    "vdp = vdPropagatorPlane(10, 0.06, dt=0.3, device=\"cuda\", safe_dist=100, p_new_debris=5e-2, gamma=None)"
   ]
  },
  {
   "cell_type": "code",
   "execution_count": 2,
   "metadata": {},
   "outputs": [],
   "source": [
    "from utils import lineProj, dotEachRow\n",
    "def _gen_data(batch_size=64, batch_num=1000, n_debris=None):\n",
    "    if n_debris is None:\n",
    "        n_debris = np.random.randint(1, vdp.max_n_debris+1)\n",
    "    total = batch_size*batch_num\n",
    "    data = torch.zeros((total, n_debris, 6), device=vdp.device)\n",
    "    label = torch.zeros((total, 1), device=vdp.device)\n",
    "    for j in range(batch_num):\n",
    "        sp = vdp.randomPrimalStates(batch_size)\n",
    "        sd = vdp.randomDebrisStatesTime(n_debris)\n",
    "        op, od = vdp.getObss(sp, sd)\n",
    "        data[j*batch_size:(j+1)*batch_size] = od\n",
    "    pos = data[:,:,:3]\n",
    "    vel = data[:,:,3:]\n",
    "    dist = pos.norm(dim=-1)\n",
    "    _, min_idx = dist.min(dim=1)\n",
    "    for i in range(total):\n",
    "        label[i,...] = dist[i, min_idx[i]]\n",
    "    return data, label\n",
    "\n",
    "def _get_pool(total_p, total_d):\n",
    "    sp_pool = vdp.randomPrimalStates(total_p)\n",
    "    sd_pool = vdp.randomDebrisStatesTime(total_d)\n",
    "    return sp_pool, sd_pool\n",
    "\n",
    "def _gen_pool_data(p_pool, d_pool, batch_size, n_debris:int|None=None):\n",
    "    if n_debris is None:\n",
    "        n_debris = np.random.randint(1, vdp.max_n_debris+1)\n",
    "    p_idx = np.random.choice(p_pool.shape[0], batch_size, replace=False)\n",
    "    d_idx = np.random.choice(d_pool.shape[0], batch_size*n_debris, replace=False)\n",
    "    data = torch.zeros((batch_size, n_debris, 6), device=vdp.device)\n",
    "    label = torch.zeros((batch_size, 1), device=vdp.device)\n",
    "    for i in range(batch_size):\n",
    "        sp = p_pool[[p_idx[i]],:]\n",
    "        sd = d_pool[d_idx[i*n_debris:(i+1)*n_debris],:]\n",
    "        op, od = vdp.getObss(sp, sd)\n",
    "        data[i:i+1] = od\n",
    "    pos = data[:,:,:3]\n",
    "    vel = data[:,:,3:]\n",
    "    dist = pos.norm(dim=-1)\n",
    "    _, min_idx = dist.min(dim=1)\n",
    "    for i in range(batch_size):\n",
    "        label[i,...] = dist[i, min_idx[i]]\n",
    "    return data, label"
   ]
  },
  {
   "cell_type": "code",
   "execution_count": 3,
   "metadata": {},
   "outputs": [],
   "source": [
    "from utils import lineProj, dotEachRow\n",
    "from env.propagators.variableDebris import vdPropagator, vdPropagatorPlane\n",
    "# vdp = vdPropagator(10, 0.06, dt=0.3, device=\"cuda\", safe_dist=100, p_new_debris=1e-3, gamma=None)\n",
    "vdp = vdPropagatorPlane(10, 0.06, dt=0.3, device=\"cuda\", safe_dist=100, p_new_debris=5e-2, gamma=None)\n",
    "\n",
    "def _gen_data(batch_size=64, batch_num=1000, n_debris=None):\n",
    "    if n_debris is None:\n",
    "        n_debris = np.random.randint(1, vdp.max_n_debris+1)\n",
    "    total = batch_size*batch_num\n",
    "    data = torch.zeros((total, n_debris, 6), device=vdp.device)\n",
    "    label = torch.zeros((total, 3), device=vdp.device)\n",
    "    for j in range(batch_num):\n",
    "        sp = vdp.randomPrimalStates(batch_size)\n",
    "        sd = vdp.randomDebrisStatesTime(n_debris)\n",
    "        op, od = vdp.getObss(sp, sd)\n",
    "        data[j*batch_size:(j+1)*batch_size] = od\n",
    "    pos = data[:,:,:3]\n",
    "    vel = data[:,:,3:]\n",
    "    dr = dotEachRow(pos, vel)\n",
    "    _, closet_approach = lineProj(torch.zeros_like(pos), pos, vel)\n",
    "    closet_dist = closet_approach.norm(dim=-1) # (batch_size, n_debris)\n",
    "    closet_dist = torch.where(dr<0, closet_dist, torch.inf)\n",
    "    _, min_idx = closet_dist.min(dim=1)\n",
    "    for i in range(total):\n",
    "        label[i,...] = closet_approach[i, min_idx[i],:]\n",
    "    return data, label\n",
    "\n",
    "def _get_pool(total_p, total_d):\n",
    "    sp_pool = vdp.randomPrimalStates(total_p)\n",
    "    sd_pool = vdp.randomDebrisStatesTime(total_d)\n",
    "    return sp_pool, sd_pool\n",
    "\n",
    "def _gen_pool_data(p_pool, d_pool, batch_size, n_debris:int|None=None):\n",
    "    if n_debris is None:\n",
    "        n_debris = np.random.randint(1, vdp.max_n_debris+1)\n",
    "    p_idx = np.random.choice(p_pool.shape[0], batch_size, replace=False)\n",
    "    d_idx = np.random.choice(d_pool.shape[0], batch_size*n_debris, replace=False)\n",
    "    data = torch.zeros((batch_size, n_debris, 6), device=vdp.device)\n",
    "    label = torch.zeros((batch_size, 3), device=vdp.device)\n",
    "    for i in range(batch_size):\n",
    "        sp = p_pool[[p_idx[i]],:]\n",
    "        sd = d_pool[d_idx[i*n_debris:(i+1)*n_debris],:]\n",
    "        op, od = vdp.getObss(sp, sd)\n",
    "        data[i:i+1] = od\n",
    "    pos = data[:,:,:3]\n",
    "    vel = data[:,:,3:]\n",
    "    dr = dotEachRow(pos, vel)\n",
    "    _, closet_approach = lineProj(torch.zeros_like(pos), pos, vel)\n",
    "    closet_dist = closet_approach.norm(dim=-1) # (batch_size, n_debris)\n",
    "    closet_dist = torch.where(dr<0, closet_dist, torch.inf)\n",
    "    _, min_idx = closet_dist.min(dim=1)\n",
    "    for i in range(batch_size):\n",
    "        label[i,...] = closet_approach[i, min_idx[i],:]\n",
    "    return data, label"
   ]
  },
  {
   "cell_type": "code",
   "execution_count": 16,
   "metadata": {},
   "outputs": [],
   "source": [
    "from agent.net import fcNet\n",
    "linear_pretrainer_model = fcNet(6, 3, [512]*4).to(\"cuda\")\n",
    "opt = torch.optim.Adam(linear_pretrainer_model.parameters(), lr=0.001)"
   ]
  },
  {
   "cell_type": "code",
   "execution_count": 48,
   "metadata": {},
   "outputs": [],
   "source": [
    "writer = SummaryWriter(log_dir=\"./tblogs\")\n",
    "test_data = _gen_data(10, 1)[0]\n",
    "writer.add_graph(model, test_data)"
   ]
  },
  {
   "cell_type": "code",
   "execution_count": 55,
   "metadata": {},
   "outputs": [],
   "source": [
    "Data, Label = [[] for _ in range(vdp.max_n_debris)], [[] for _ in range(vdp.max_n_debris)]"
   ]
  },
  {
   "cell_type": "code",
   "execution_count": 79,
   "metadata": {},
   "outputs": [],
   "source": [
    "for i in range(vdp.max_n_debris):\n",
    "    Data[i] = torch.cat(Data[i], dim=0)\n",
    "    Label[i] = torch.cat(Label[i], dim=0)"
   ]
  },
  {
   "cell_type": "code",
   "execution_count": 91,
   "metadata": {},
   "outputs": [],
   "source": [
    "def _load_data(batch_size, n_debris=None):\n",
    "    if n_debris is None:\n",
    "        n_debris = np.random.randint(1, vdp.max_n_debris+1)\n",
    "    idx = np.random.choice(Data[n_debris-1].shape[0], batch_size, replace=False)\n",
    "    return Data[n_debris-1][idx], Label[n_debris-1][idx]"
   ]
  },
  {
   "cell_type": "code",
   "execution_count": null,
   "metadata": {},
   "outputs": [],
   "source": [
    "n_epoch = 1000\n",
    "n_episode = 100\n",
    "batch_size = 1024\n",
    "n_feat = st.n_feature\n",
    "# n_debris = 1\n",
    "for epoch in range(n_epoch):\n",
    "    for episode in range(n_episode):\n",
    "        model.train()\n",
    "        n_debris = np.random.randint(1, vdp.max_n_debris+1)\n",
    "        # data, label = _gen_data(1, batch_size, n_debris)\n",
    "        data, label = _load_data(batch_size, n_debris)\n",
    "        data, label = data.to(vdp.device), label.to(vdp.device)\n",
    "        # Data[n_debris-1].append(data.cpu())\n",
    "        # Label[n_debris-1].append(label.cpu())\n",
    "        pred = model(data).view(label.shape)\n",
    "        loss = torch.nn.functional.mse_loss(pred, label)\n",
    "        opt.zero_grad()\n",
    "        loss.backward()\n",
    "        opt.step()\n",
    "        writer.add_scalar(\"loss/train\", loss.item(), epoch*n_episode+episode)\n",
    "    model.eval()\n",
    "    test_data, test_label = _gen_data(1, batch_size)\n",
    "    test_pred = model(test_data).view(label.shape)\n",
    "    test_loss = torch.nn.functional.mse_loss(test_pred, test_label)\n",
    "    writer.add_scalar(\"loss/test\", test_loss.item(), epoch*n_episode+episode)"
   ]
  },
  {
   "cell_type": "code",
   "execution_count": 97,
   "metadata": {},
   "outputs": [
    {
     "data": {
      "image/png": "[encoded data removed]",
      "text/plain": [
       "<Figure size 1000x800 with 3 Axes>"
      ]
     },
     "metadata": {},
     "output_type": "display_data"
    }
   ],
   "source": [
    "import matplotlib.pyplot as plt\n",
    "st.eval()\n",
    "test_batch_size = 10\n",
    "n_debris = 10\n",
    "# test_data, test_label = _gen_pool_data(pp, dp, test_batch_size, n_debris)\n",
    "test_data, test_label = _gen_data(1, test_batch_size, n_debris)\n",
    "\n",
    "test_pred = model(test_data).view(test_label.shape)\n",
    "test_pred = test_pred.detach().cpu().numpy()\n",
    "test_label = test_label.detach().cpu().numpy()\n",
    "fig, axs = plt.subplots(test_pred.shape[-1], figsize=(10,8))\n",
    "if test_pred.shape[-1]==1:\n",
    "    axs = [axs]\n",
    "xpos = np.arange(test_batch_size)\n",
    "width = 0.2\n",
    "for i in range(test_pred.shape[-1]):\n",
    "    bars1 = axs[i].bar(xpos-width/2, test_pred[:,i], align='center', width=width, alpha=0.9, color='#1f77b4', label = 'Pred')\n",
    "    bars2 = axs[i].bar(xpos+width/2, test_label[:,i], align='center', width=width, alpha=0.9, color='#ff7f0e', label = 'Label')"
   ]
  },
  {
   "cell_type": "code",
   "execution_count": 99,
   "metadata": {},
   "outputs": [],
   "source": [
    "torch.save(model.state_dict(), '../model/pretrained_st.pt')"
   ]
  }
 ],
 "metadata": {
  "kernelspec": {
   "display_name": "base",
   "language": "python",
   "name": "python3"
  },
  "language_info": {
   "codemirror_mode": {
    "name": "ipython",
    "version": 3
   },
   "file_extension": ".py",
   "mimetype": "text/x-python",
   "name": "python",
   "nbconvert_exporter": "python",
   "pygments_lexer": "ipython3",
   "version": "3.11.8"
  }
 },
 "nbformat": 4,
 "nbformat_minor": 2
}
